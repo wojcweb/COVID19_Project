{
 "cells": [
  {
   "cell_type": "code",
   "execution_count": 1,
   "metadata": {},
   "outputs": [],
   "source": [
    "import pandas as pd"
   ]
  },
  {
   "cell_type": "code",
   "execution_count": 4,
   "metadata": {},
   "outputs": [
    {
     "name": "stdout",
     "output_type": "stream",
     "text": [
      "         dateRep  day  month  year  cases  deaths countriesAndTerritories  \\\n",
      "6354  26/04/2020   26      4  2020   2357     415                   Italy   \n",
      "6355  25/04/2020   25      4  2020   3021     420                   Italy   \n",
      "6356  24/04/2020   24      4  2020   2646     464                   Italy   \n",
      "6357  23/04/2020   23      4  2020   3370     437                   Italy   \n",
      "6358  22/04/2020   22      4  2020   2729     534                   Italy   \n",
      "...          ...  ...    ...   ...    ...     ...                     ...   \n",
      "6467  04/01/2020    4      1  2020      0       0                   Italy   \n",
      "6468  03/01/2020    3      1  2020      0       0                   Italy   \n",
      "6469  02/01/2020    2      1  2020      0       0                   Italy   \n",
      "6470  01/01/2020    1      1  2020      0       0                   Italy   \n",
      "6471  31/12/2019   31     12  2019      0       0                   Italy   \n",
      "\n",
      "     geoId countryterritoryCode  popData2018 continentExp  \n",
      "6354    IT                  ITA   60431283.0       Europe  \n",
      "6355    IT                  ITA   60431283.0       Europe  \n",
      "6356    IT                  ITA   60431283.0       Europe  \n",
      "6357    IT                  ITA   60431283.0       Europe  \n",
      "6358    IT                  ITA   60431283.0       Europe  \n",
      "...    ...                  ...          ...          ...  \n",
      "6467    IT                  ITA   60431283.0       Europe  \n",
      "6468    IT                  ITA   60431283.0       Europe  \n",
      "6469    IT                  ITA   60431283.0       Europe  \n",
      "6470    IT                  ITA   60431283.0       Europe  \n",
      "6471    IT                  ITA   60431283.0       Europe  \n",
      "\n",
      "[118 rows x 11 columns]\n"
     ]
    }
   ],
   "source": [
    "data_frame = pd.read_csv('download.csv')\n",
    "print(data_frame[data_frame['countriesAndTerritories']=='Italy'])"
   ]
  },
  {
   "cell_type": "code",
   "execution_count": null,
   "metadata": {},
   "outputs": [],
   "source": [
    "data_frame =data_frame.loc[data_frame['countriesAndTerritories'] == 'Poland']"
   ]
  },
  {
   "cell_type": "code",
   "execution_count": null,
   "metadata": {},
   "outputs": [],
   "source": [
    "data_frame = data_frame['cases']"
   ]
  },
  {
   "cell_type": "code",
   "execution_count": null,
   "metadata": {},
   "outputs": [],
   "source": [
    "data_frame=data_frame.reindex(index=data_frame.index[::-1])"
   ]
  },
  {
   "cell_type": "code",
   "execution_count": null,
   "metadata": {},
   "outputs": [],
   "source": [
    "data_frame.reset_index(drop=True, inplace=True)"
   ]
  },
  {
   "cell_type": "code",
   "execution_count": null,
   "metadata": {},
   "outputs": [],
   "source": [
    "data_frame = data_frame.cumsum()"
   ]
  },
  {
   "cell_type": "code",
   "execution_count": null,
   "metadata": {},
   "outputs": [],
   "source": []
  },
  {
   "cell_type": "code",
   "execution_count": null,
   "metadata": {},
   "outputs": [],
   "source": []
  }
 ],
 "metadata": {
  "kernelspec": {
   "display_name": "Python 3",
   "language": "python",
   "name": "python3"
  },
  "language_info": {
   "codemirror_mode": {
    "name": "ipython",
    "version": 3
   },
   "file_extension": ".py",
   "mimetype": "text/x-python",
   "name": "python",
   "nbconvert_exporter": "python",
   "pygments_lexer": "ipython3",
   "version": "3.8.2"
  }
 },
 "nbformat": 4,
 "nbformat_minor": 4
}
